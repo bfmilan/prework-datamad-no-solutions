{
 "cells": [
  {
   "cell_type": "markdown",
   "metadata": {},
   "source": [
    "# Snail and well\n",
    "\n",
    "A snail falls at the bottom of a 125 cm well. Each day the snail rises 30 cm. But at night, while sleeping, slides 20 cm because the walls are wet. How many days does it take to escape from the well?\n",
    "\n",
    "TIP: http://puzzles.nigelcoldwell.co.uk/sixtytwo.htm"
   ]
  },
  {
   "cell_type": "markdown",
   "metadata": {},
   "source": [
    "## Solución"
   ]
  },
  {
   "cell_type": "markdown",
   "metadata": {},
   "source": [
    "**Expected output**: \n",
    "```\n",
    "Days = 11\n",
    "```"
   ]
  },
  {
   "cell_type": "markdown",
   "metadata": {},
   "source": [
    "## Goals\n",
    "\n",
    "1. Treatment of variables\n",
    "2. Use of loop **while**\n",
    "3. Use of conditional **if-else**\n",
    "4. Print in console"
   ]
  },
  {
   "cell_type": "code",
   "execution_count": 6,
   "metadata": {},
   "outputs": [
    {
     "name": "stdout",
     "output_type": "stream",
     "text": [
      "The snail scapes in 11 days\n"
     ]
    }
   ],
   "source": [
    "# Assign problem data to variables with representative names\n",
    "# well height, daily advance, night retreat, accumulated distance\n",
    "well_height = 125\n",
    "daily_advance = 30\n",
    "night_retreat = -20\n",
    "accumulated_distance = daily_advance + night_retreat\n",
    "totalcms = 0\n",
    "days=0\n",
    "snailhasnotescaped = True\n",
    "# Write the code that solves the problem\n",
    "while snailhasnotescaped:\n",
    "    totalcms += daily_advance\n",
    "    days += 1\n",
    "    if totalcms >= well_height:\n",
    "        snailhasnotescaped = False\n",
    "        break\n",
    "\n",
    "    totalcms += night_retreat\n",
    "    if totalcms >= well_height:\n",
    "        snailhasnotescaped = False\n",
    "        break\n",
    "# Print the result with print('Days =', days)\n",
    "print(\"The snail scapes in\", days, \"days\")"
   ]
  },
  {
   "cell_type": "markdown",
   "metadata": {},
   "source": [
    "## Bonus\n",
    "The distance traveled by the snail is now defined by a list.\n",
    "```\n",
    "advance_cm = [30, 21, 33, 77, 44, 45, 23, 45, 12, 34, 55]\n",
    "```\n",
    "How long does it take to raise the well?\n",
    "\n",
    "What is its maximum displacement in one day? And its minimum?\n",
    "\n",
    "What is its average speed during the day?\n",
    "\n",
    "What is the standard deviation of its displacement during the day?"
   ]
  },
  {
   "cell_type": "code",
   "execution_count": 14,
   "metadata": {},
   "outputs": [
    {
     "name": "stdout",
     "output_type": "stream",
     "text": [
      "The snail scapes in 6 days\n"
     ]
    }
   ],
   "source": [
    "# Assign problem data to variables with representative names\n",
    "# well height, daily advance, night retreat, accumulated distance\n",
    "import statistics\n",
    "import math\n",
    "\n",
    "total_height = 128\n",
    "advance_cm = [30, 21, 33, 77, 44, 45, 23, 45, 12, 34, 55]\n",
    "night_height = -20\n",
    "pos =0\n",
    "displacement_list = []\n",
    "# Assign 0 to the variable that represents the solution\n",
    "total_days = 0\n",
    "\n",
    "# Write the code that solves the problem\n",
    "for advance in advance_cm: \n",
    "    if ((pos + advance) <total_height):\n",
    "        pos += advance\n",
    "        displacement_list.append(advance)\n",
    "    else: \n",
    "        left_to_rise = total_height -pos\n",
    "        displacement_list.append(left_to_rise)\n",
    "        # we assume day has 12 hours day and 12 night \n",
    "        total_days += (left_to_rise *(12/advance)) / 24\n",
    "        break\n",
    "    pos += night_height\n",
    "    total_days += 1\n",
    "\n",
    "days = math.ceil(total_days)\n",
    "# Print the result with print('Days =', days)\n",
    "print(\"The snail scapes in\", days, \"days\")"
   ]
  },
  {
   "cell_type": "markdown",
   "metadata": {},
   "source": [
    "**Expected output**: \n",
    "```\n",
    "Days = 6\n",
    "```"
   ]
  },
  {
   "cell_type": "code",
   "execution_count": 19,
   "metadata": {},
   "outputs": [
    {
     "name": "stdout",
     "output_type": "stream",
     "text": [
      "Max daily displacement is 77\n",
      "Min daily displacement is 12\n"
     ]
    }
   ],
   "source": [
    "# What is its maximum displacement in a day? And its minimum?\n",
    "print(\"Max daily displacement is\", max(advance_cm))\n",
    "print(\"Min daily displacement is\", min(advance_cm))\n",
    "\n",
    "# If we use displacement_list it already takes added values, so no 12 shows up. "
   ]
  },
  {
   "cell_type": "markdown",
   "metadata": {},
   "source": [
    "**Expected output**: \n",
    "```\n",
    "77 12\n",
    "```"
   ]
  },
  {
   "cell_type": "code",
   "execution_count": 28,
   "metadata": {},
   "outputs": [
    {
     "name": "stdout",
     "output_type": "stream",
     "text": [
      "38.0\n",
      "38.00\n",
      "The average progress is 38.0 cms\n"
     ]
    }
   ],
   "source": [
    "# What is its average progress?\n",
    "avg = sum(displacement_list)/len(displacement_list)\n",
    "print(round(avg,3)) # does not seem to work \n",
    "print(\"%.2f\" % avg) # works\n",
    "print (\"The average progress is\", avg, \"cms\")\n"
   ]
  },
  {
   "cell_type": "markdown",
   "metadata": {},
   "source": [
    "**Expected output**: \n",
    "```\n",
    "38.09090909090909\n",
    "```"
   ]
  },
  {
   "cell_type": "code",
   "execution_count": 33,
   "metadata": {},
   "outputs": [
    {
     "name": "stdout",
     "output_type": "stream",
     "text": [
      "Standard deviation durign the day is 17.996969441850734 cms\n"
     ]
    }
   ],
   "source": [
    "# What is the standard deviation of your displacement during the day?\n",
    "deviation = statistics.stdev(advance_cm) \n",
    "# if we use displacement_list it calcs it to addd up lenths (commulative)\n",
    "print (\"Standard deviation durign the day is\", deviation, \"cms\")\n"
   ]
  },
  {
   "cell_type": "markdown",
   "metadata": {},
   "source": [
    "**Expected output**: \n",
    "```\n",
    "17.159437082600803\n",
    "```"
   ]
  }
 ],
 "metadata": {
  "kernelspec": {
   "display_name": "Python 3",
   "language": "python",
   "name": "python3"
  },
  "language_info": {
   "codemirror_mode": {
    "name": "ipython",
    "version": 3
   },
   "file_extension": ".py",
   "mimetype": "text/x-python",
   "name": "python",
   "nbconvert_exporter": "python",
   "pygments_lexer": "ipython3",
   "version": "3.7.4"
  }
 },
 "nbformat": 4,
 "nbformat_minor": 2
}
